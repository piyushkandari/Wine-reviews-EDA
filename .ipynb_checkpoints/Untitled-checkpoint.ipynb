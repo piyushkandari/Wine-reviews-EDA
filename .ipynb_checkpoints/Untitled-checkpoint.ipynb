{
 "cells": [
  {
   "cell_type": "code",
   "execution_count": 2,
   "metadata": {
    "scrolled": true
   },
   "outputs": [
    {
     "name": "stderr",
     "output_type": "stream",
     "text": [
      "Matplotlib is building the font cache; this may take a moment.\n"
     ]
    }
   ],
   "source": [
    "import pandas as pd\n",
    "import numpy as np\n",
    "import seaborn as sns\n",
    "import matplotlib.pyplot as plt"
   ]
  },
  {
   "cell_type": "code",
   "execution_count": 3,
   "metadata": {},
   "outputs": [],
   "source": [
    "%matplotlib inline"
   ]
  },
  {
   "cell_type": "markdown",
   "metadata": {},
   "source": [
    "# READING THE DATA"
   ]
  },
  {
   "cell_type": "code",
   "execution_count": 65,
   "metadata": {},
   "outputs": [],
   "source": [
    "df = pd.read_csv('winemag-data_first150k.csv',index_col=0)"
   ]
  },
  {
   "cell_type": "code",
   "execution_count": 66,
   "metadata": {},
   "outputs": [],
   "source": [
    "df_new=pd.read_csv('winemag-data-130k-v2.csv',index_col=0)"
   ]
  },
  {
   "cell_type": "code",
   "execution_count": 67,
   "metadata": {},
   "outputs": [],
   "source": [
    "df_new.drop(['taster_name','taster_twitter_handle'],axis=1,inplace=True)"
   ]
  },
  {
   "cell_type": "markdown",
   "metadata": {},
   "source": [
    "# DATA PREPROCESSING"
   ]
  },
  {
   "cell_type": "code",
   "execution_count": 68,
   "metadata": {},
   "outputs": [],
   "source": [
    "#merging the two csv files using join\n",
    "merged_data = df.append(df_new)\n"
   ]
  },
  {
   "cell_type": "code",
   "execution_count": 69,
   "metadata": {},
   "outputs": [
    {
     "name": "stdout",
     "output_type": "stream",
     "text": [
      "<class 'pandas.core.frame.DataFrame'>\n",
      "Int64Index: 280901 entries, 0 to 129970\n",
      "Data columns (total 11 columns):\n",
      " #   Column       Non-Null Count   Dtype  \n",
      "---  ------       --------------   -----  \n",
      " 0   country      280833 non-null  object \n",
      " 1   description  280901 non-null  object \n",
      " 2   designation  197701 non-null  object \n",
      " 3   points       280901 non-null  int64  \n",
      " 4   price        258210 non-null  float64\n",
      " 5   province     280833 non-null  object \n",
      " 6   region_1     234594 non-null  object \n",
      " 7   region_2     111464 non-null  object \n",
      " 8   variety      280900 non-null  object \n",
      " 9   winery       280901 non-null  object \n",
      " 10  title        129971 non-null  object \n",
      "dtypes: float64(1), int64(1), object(9)\n",
      "memory usage: 25.7+ MB\n"
     ]
    }
   ],
   "source": [
    "merged_data.info()"
   ]
  },
  {
   "cell_type": "code",
   "execution_count": 70,
   "metadata": {},
   "outputs": [],
   "source": [
    "merged_data.drop(['region_2','title','designation'], axis=1, inplace=True)"
   ]
  },
  {
   "cell_type": "code",
   "execution_count": 71,
   "metadata": {},
   "outputs": [],
   "source": [
    "df2 = merged_data.dropna(subset=['country','province'])"
   ]
  },
  {
   "cell_type": "code",
   "execution_count": 72,
   "metadata": {},
   "outputs": [
    {
     "name": "stdout",
     "output_type": "stream",
     "text": [
      "<class 'pandas.core.frame.DataFrame'>\n",
      "Int64Index: 280833 entries, 0 to 129970\n",
      "Data columns (total 8 columns):\n",
      " #   Column       Non-Null Count   Dtype  \n",
      "---  ------       --------------   -----  \n",
      " 0   country      280833 non-null  object \n",
      " 1   description  280833 non-null  object \n",
      " 2   points       280833 non-null  int64  \n",
      " 3   price        258146 non-null  float64\n",
      " 4   province     280833 non-null  object \n",
      " 5   region_1     234594 non-null  object \n",
      " 6   variety      280832 non-null  object \n",
      " 7   winery       280833 non-null  object \n",
      "dtypes: float64(1), int64(1), object(6)\n",
      "memory usage: 19.3+ MB\n"
     ]
    }
   ],
   "source": [
    "df2.info()"
   ]
  },
  {
   "cell_type": "code",
   "execution_count": 73,
   "metadata": {},
   "outputs": [],
   "source": [
    "#since country descriotion designation province variety winery have same number of rows we r going to drop the other null values"
   ]
  },
  {
   "cell_type": "code",
   "execution_count": 74,
   "metadata": {},
   "outputs": [],
   "source": [
    "df2 = merged_data.dropna(subset=['region_1','price'])"
   ]
  },
  {
   "cell_type": "code",
   "execution_count": 75,
   "metadata": {},
   "outputs": [
    {
     "data": {
      "text/plain": [
       "Pinot Noir                   23886\n",
       "Chardonnay                   22174\n",
       "Cabernet Sauvignon           19239\n",
       "Red Blend                    15718\n",
       "Bordeaux-style Red Blend      9336\n",
       "                             ...  \n",
       "Garnacha-Cariñena                1\n",
       "Pinot Gris-Gewürztraminer        1\n",
       "Moristel                         1\n",
       "Viura-Sauvignon Blanc            1\n",
       "Verdosilla                       1\n",
       "Name: variety, Length: 542, dtype: int64"
      ]
     },
     "execution_count": 75,
     "metadata": {},
     "output_type": "execute_result"
    }
   ],
   "source": [
    "df2['variety'].value_counts()"
   ]
  },
  {
   "cell_type": "code",
   "execution_count": 76,
   "metadata": {},
   "outputs": [
    {
     "data": {
      "text/plain": [
       "country        0\n",
       "description    0\n",
       "points         0\n",
       "price          0\n",
       "province       0\n",
       "region_1       0\n",
       "variety        0\n",
       "winery         0\n",
       "dtype: int64"
      ]
     },
     "execution_count": 76,
     "metadata": {},
     "output_type": "execute_result"
    }
   ],
   "source": [
    "df2.isna().sum()"
   ]
  },
  {
   "cell_type": "code",
   "execution_count": 77,
   "metadata": {},
   "outputs": [
    {
     "data": {
      "text/plain": [
       "<bound method IndexOpsMixin.value_counts of 0         Cabernet Sauvignon\n",
       "1              Tinta de Toro\n",
       "2            Sauvignon Blanc\n",
       "3                 Pinot Noir\n",
       "4         Provence red blend\n",
       "                 ...        \n",
       "129965            Pinot Gris\n",
       "129967            Pinot Noir\n",
       "129968        Gewürztraminer\n",
       "129969            Pinot Gris\n",
       "129970        Gewürztraminer\n",
       "Name: variety, Length: 215793, dtype: object>"
      ]
     },
     "execution_count": 77,
     "metadata": {},
     "output_type": "execute_result"
    }
   ],
   "source": [
    "#Hence we have no missing values now\n",
    "df2['variety'].value_counts"
   ]
  },
  {
   "cell_type": "code",
   "execution_count": 78,
   "metadata": {},
   "outputs": [],
   "source": [
    "#gettting the top 50 varieties \n",
    "df3 = df2['variety'].value_counts().head(50).to_frame().reset_index()"
   ]
  },
  {
   "cell_type": "code",
   "execution_count": 79,
   "metadata": {},
   "outputs": [
    {
     "data": {
      "text/html": [
       "<div>\n",
       "<style scoped>\n",
       "    .dataframe tbody tr th:only-of-type {\n",
       "        vertical-align: middle;\n",
       "    }\n",
       "\n",
       "    .dataframe tbody tr th {\n",
       "        vertical-align: top;\n",
       "    }\n",
       "\n",
       "    .dataframe thead th {\n",
       "        text-align: right;\n",
       "    }\n",
       "</style>\n",
       "<table border=\"1\" class=\"dataframe\">\n",
       "  <thead>\n",
       "    <tr style=\"text-align: right;\">\n",
       "      <th></th>\n",
       "      <th>index</th>\n",
       "      <th>variety</th>\n",
       "    </tr>\n",
       "  </thead>\n",
       "  <tbody>\n",
       "    <tr>\n",
       "      <th>0</th>\n",
       "      <td>Pinot Noir</td>\n",
       "      <td>23886</td>\n",
       "    </tr>\n",
       "    <tr>\n",
       "      <th>1</th>\n",
       "      <td>Chardonnay</td>\n",
       "      <td>22174</td>\n",
       "    </tr>\n",
       "    <tr>\n",
       "      <th>2</th>\n",
       "      <td>Cabernet Sauvignon</td>\n",
       "      <td>19239</td>\n",
       "    </tr>\n",
       "    <tr>\n",
       "      <th>3</th>\n",
       "      <td>Red Blend</td>\n",
       "      <td>15718</td>\n",
       "    </tr>\n",
       "    <tr>\n",
       "      <th>4</th>\n",
       "      <td>Bordeaux-style Red Blend</td>\n",
       "      <td>9336</td>\n",
       "    </tr>\n",
       "    <tr>\n",
       "      <th>5</th>\n",
       "      <td>Syrah</td>\n",
       "      <td>8692</td>\n",
       "    </tr>\n",
       "    <tr>\n",
       "      <th>6</th>\n",
       "      <td>Merlot</td>\n",
       "      <td>6921</td>\n",
       "    </tr>\n",
       "    <tr>\n",
       "      <th>7</th>\n",
       "      <td>Sauvignon Blanc</td>\n",
       "      <td>6895</td>\n",
       "    </tr>\n",
       "    <tr>\n",
       "      <th>8</th>\n",
       "      <td>Zinfandel</td>\n",
       "      <td>6497</td>\n",
       "    </tr>\n",
       "    <tr>\n",
       "      <th>9</th>\n",
       "      <td>Malbec</td>\n",
       "      <td>5377</td>\n",
       "    </tr>\n",
       "    <tr>\n",
       "      <th>10</th>\n",
       "      <td>Sangiovese</td>\n",
       "      <td>5243</td>\n",
       "    </tr>\n",
       "    <tr>\n",
       "      <th>11</th>\n",
       "      <td>Riesling</td>\n",
       "      <td>5028</td>\n",
       "    </tr>\n",
       "    <tr>\n",
       "      <th>12</th>\n",
       "      <td>Rosé</td>\n",
       "      <td>4987</td>\n",
       "    </tr>\n",
       "    <tr>\n",
       "      <th>13</th>\n",
       "      <td>Tempranillo</td>\n",
       "      <td>4288</td>\n",
       "    </tr>\n",
       "    <tr>\n",
       "      <th>14</th>\n",
       "      <td>White Blend</td>\n",
       "      <td>3976</td>\n",
       "    </tr>\n",
       "    <tr>\n",
       "      <th>15</th>\n",
       "      <td>Nebbiolo</td>\n",
       "      <td>3850</td>\n",
       "    </tr>\n",
       "    <tr>\n",
       "      <th>16</th>\n",
       "      <td>Sparkling Blend</td>\n",
       "      <td>3582</td>\n",
       "    </tr>\n",
       "    <tr>\n",
       "      <th>17</th>\n",
       "      <td>Rhône-style Red Blend</td>\n",
       "      <td>2810</td>\n",
       "    </tr>\n",
       "    <tr>\n",
       "      <th>18</th>\n",
       "      <td>Cabernet Franc</td>\n",
       "      <td>2504</td>\n",
       "    </tr>\n",
       "    <tr>\n",
       "      <th>19</th>\n",
       "      <td>Pinot Gris</td>\n",
       "      <td>2375</td>\n",
       "    </tr>\n",
       "    <tr>\n",
       "      <th>20</th>\n",
       "      <td>Shiraz</td>\n",
       "      <td>2271</td>\n",
       "    </tr>\n",
       "    <tr>\n",
       "      <th>21</th>\n",
       "      <td>Pinot Grigio</td>\n",
       "      <td>2222</td>\n",
       "    </tr>\n",
       "    <tr>\n",
       "      <th>22</th>\n",
       "      <td>Champagne Blend</td>\n",
       "      <td>2175</td>\n",
       "    </tr>\n",
       "    <tr>\n",
       "      <th>23</th>\n",
       "      <td>Viognier</td>\n",
       "      <td>2059</td>\n",
       "    </tr>\n",
       "    <tr>\n",
       "      <th>24</th>\n",
       "      <td>Corvina, Rondinella, Molinara</td>\n",
       "      <td>1788</td>\n",
       "    </tr>\n",
       "    <tr>\n",
       "      <th>25</th>\n",
       "      <td>Gewürztraminer</td>\n",
       "      <td>1636</td>\n",
       "    </tr>\n",
       "    <tr>\n",
       "      <th>26</th>\n",
       "      <td>Petite Sirah</td>\n",
       "      <td>1621</td>\n",
       "    </tr>\n",
       "    <tr>\n",
       "      <th>27</th>\n",
       "      <td>Barbera</td>\n",
       "      <td>1569</td>\n",
       "    </tr>\n",
       "    <tr>\n",
       "      <th>28</th>\n",
       "      <td>Sangiovese Grosso</td>\n",
       "      <td>1527</td>\n",
       "    </tr>\n",
       "    <tr>\n",
       "      <th>29</th>\n",
       "      <td>Tempranillo Blend</td>\n",
       "      <td>1317</td>\n",
       "    </tr>\n",
       "    <tr>\n",
       "      <th>30</th>\n",
       "      <td>Bordeaux-style White Blend</td>\n",
       "      <td>1268</td>\n",
       "    </tr>\n",
       "    <tr>\n",
       "      <th>31</th>\n",
       "      <td>Grenache</td>\n",
       "      <td>1234</td>\n",
       "    </tr>\n",
       "    <tr>\n",
       "      <th>32</th>\n",
       "      <td>Gamay</td>\n",
       "      <td>1125</td>\n",
       "    </tr>\n",
       "    <tr>\n",
       "      <th>33</th>\n",
       "      <td>Glera</td>\n",
       "      <td>1075</td>\n",
       "    </tr>\n",
       "    <tr>\n",
       "      <th>34</th>\n",
       "      <td>Albariño</td>\n",
       "      <td>997</td>\n",
       "    </tr>\n",
       "    <tr>\n",
       "      <th>35</th>\n",
       "      <td>Rhône-style White Blend</td>\n",
       "      <td>822</td>\n",
       "    </tr>\n",
       "    <tr>\n",
       "      <th>36</th>\n",
       "      <td>Chenin Blanc</td>\n",
       "      <td>807</td>\n",
       "    </tr>\n",
       "    <tr>\n",
       "      <th>37</th>\n",
       "      <td>Pinot Blanc</td>\n",
       "      <td>730</td>\n",
       "    </tr>\n",
       "    <tr>\n",
       "      <th>38</th>\n",
       "      <td>Garnacha</td>\n",
       "      <td>722</td>\n",
       "    </tr>\n",
       "    <tr>\n",
       "      <th>39</th>\n",
       "      <td>Prosecco</td>\n",
       "      <td>716</td>\n",
       "    </tr>\n",
       "    <tr>\n",
       "      <th>40</th>\n",
       "      <td>Nero d'Avola</td>\n",
       "      <td>701</td>\n",
       "    </tr>\n",
       "    <tr>\n",
       "      <th>41</th>\n",
       "      <td>Moscato</td>\n",
       "      <td>677</td>\n",
       "    </tr>\n",
       "    <tr>\n",
       "      <th>42</th>\n",
       "      <td>Torrontés</td>\n",
       "      <td>607</td>\n",
       "    </tr>\n",
       "    <tr>\n",
       "      <th>43</th>\n",
       "      <td>Verdejo</td>\n",
       "      <td>606</td>\n",
       "    </tr>\n",
       "    <tr>\n",
       "      <th>44</th>\n",
       "      <td>Meritage</td>\n",
       "      <td>566</td>\n",
       "    </tr>\n",
       "    <tr>\n",
       "      <th>45</th>\n",
       "      <td>Aglianico</td>\n",
       "      <td>553</td>\n",
       "    </tr>\n",
       "    <tr>\n",
       "      <th>46</th>\n",
       "      <td>Garganega</td>\n",
       "      <td>525</td>\n",
       "    </tr>\n",
       "    <tr>\n",
       "      <th>47</th>\n",
       "      <td>Sauvignon</td>\n",
       "      <td>515</td>\n",
       "    </tr>\n",
       "    <tr>\n",
       "      <th>48</th>\n",
       "      <td>Dolcetto</td>\n",
       "      <td>500</td>\n",
       "    </tr>\n",
       "    <tr>\n",
       "      <th>49</th>\n",
       "      <td>Montepulciano</td>\n",
       "      <td>473</td>\n",
       "    </tr>\n",
       "  </tbody>\n",
       "</table>\n",
       "</div>"
      ],
      "text/plain": [
       "                            index  variety\n",
       "0                      Pinot Noir    23886\n",
       "1                      Chardonnay    22174\n",
       "2              Cabernet Sauvignon    19239\n",
       "3                       Red Blend    15718\n",
       "4        Bordeaux-style Red Blend     9336\n",
       "5                           Syrah     8692\n",
       "6                          Merlot     6921\n",
       "7                 Sauvignon Blanc     6895\n",
       "8                       Zinfandel     6497\n",
       "9                          Malbec     5377\n",
       "10                     Sangiovese     5243\n",
       "11                       Riesling     5028\n",
       "12                           Rosé     4987\n",
       "13                    Tempranillo     4288\n",
       "14                    White Blend     3976\n",
       "15                       Nebbiolo     3850\n",
       "16                Sparkling Blend     3582\n",
       "17          Rhône-style Red Blend     2810\n",
       "18                 Cabernet Franc     2504\n",
       "19                     Pinot Gris     2375\n",
       "20                         Shiraz     2271\n",
       "21                   Pinot Grigio     2222\n",
       "22                Champagne Blend     2175\n",
       "23                       Viognier     2059\n",
       "24  Corvina, Rondinella, Molinara     1788\n",
       "25                 Gewürztraminer     1636\n",
       "26                   Petite Sirah     1621\n",
       "27                        Barbera     1569\n",
       "28              Sangiovese Grosso     1527\n",
       "29              Tempranillo Blend     1317\n",
       "30     Bordeaux-style White Blend     1268\n",
       "31                       Grenache     1234\n",
       "32                          Gamay     1125\n",
       "33                          Glera     1075\n",
       "34                       Albariño      997\n",
       "35        Rhône-style White Blend      822\n",
       "36                   Chenin Blanc      807\n",
       "37                    Pinot Blanc      730\n",
       "38                       Garnacha      722\n",
       "39                       Prosecco      716\n",
       "40                   Nero d'Avola      701\n",
       "41                        Moscato      677\n",
       "42                      Torrontés      607\n",
       "43                        Verdejo      606\n",
       "44                       Meritage      566\n",
       "45                      Aglianico      553\n",
       "46                      Garganega      525\n",
       "47                      Sauvignon      515\n",
       "48                       Dolcetto      500\n",
       "49                  Montepulciano      473"
      ]
     },
     "execution_count": 79,
     "metadata": {},
     "output_type": "execute_result"
    }
   ],
   "source": [
    "df3"
   ]
  },
  {
   "cell_type": "code",
   "execution_count": 80,
   "metadata": {
    "scrolled": true
   },
   "outputs": [
    {
     "data": {
      "text/plain": [
       "array(['Pinot Noir', 'Chardonnay', 'Cabernet Sauvignon', 'Red Blend',\n",
       "       'Bordeaux-style Red Blend', 'Syrah', 'Merlot', 'Sauvignon Blanc',\n",
       "       'Zinfandel', 'Malbec', 'Sangiovese', 'Riesling', 'Rosé',\n",
       "       'Tempranillo', 'White Blend', 'Nebbiolo', 'Sparkling Blend',\n",
       "       'Rhône-style Red Blend', 'Cabernet Franc', 'Pinot Gris', 'Shiraz',\n",
       "       'Pinot Grigio', 'Champagne Blend', 'Viognier',\n",
       "       'Corvina, Rondinella, Molinara', 'Gewürztraminer', 'Petite Sirah',\n",
       "       'Barbera', 'Sangiovese Grosso', 'Tempranillo Blend',\n",
       "       'Bordeaux-style White Blend', 'Grenache', 'Gamay', 'Glera',\n",
       "       'Albariño', 'Rhône-style White Blend', 'Chenin Blanc',\n",
       "       'Pinot Blanc', 'Garnacha', 'Prosecco', \"Nero d'Avola\", 'Moscato',\n",
       "       'Torrontés', 'Verdejo', 'Meritage', 'Aglianico', 'Garganega',\n",
       "       'Sauvignon', 'Dolcetto', 'Montepulciano'], dtype=object)"
      ]
     },
     "execution_count": 80,
     "metadata": {},
     "output_type": "execute_result"
    }
   ],
   "source": [
    "#string them into a numpy array\n",
    "df3['index'].to_numpy()"
   ]
  },
  {
   "cell_type": "code",
   "execution_count": 95,
   "metadata": {},
   "outputs": [
    {
     "name": "stdout",
     "output_type": "stream",
     "text": [
      "<class 'pandas.core.frame.DataFrame'>\n",
      "Int64Index: 196782 entries, 0 to 129970\n",
      "Data columns (total 8 columns):\n",
      " #   Column       Non-Null Count   Dtype  \n",
      "---  ------       --------------   -----  \n",
      " 0   country      196782 non-null  object \n",
      " 1   description  196782 non-null  object \n",
      " 2   points       196782 non-null  int64  \n",
      " 3   price        196782 non-null  float64\n",
      " 4   province     196782 non-null  object \n",
      " 5   region_1     196782 non-null  object \n",
      " 6   variety      196782 non-null  object \n",
      " 7   winery       196782 non-null  object \n",
      "dtypes: float64(1), int64(1), object(6)\n",
      "memory usage: 13.5+ MB\n"
     ]
    }
   ],
   "source": [
    "#fetching records with the 50 varities\n",
    "df4 = df2[df2['variety'].isin(df3['index']) == True]\n",
    "df4.info()"
   ]
  },
  {
   "cell_type": "markdown",
   "metadata": {},
   "source": [
    "# DATA VISUALIZATION"
   ]
  },
  {
   "cell_type": "code",
   "execution_count": 96,
   "metadata": {},
   "outputs": [
    {
     "data": {
      "text/plain": [
       "<AxesSubplot:xlabel='country', ylabel='count'>"
      ]
     },
     "execution_count": 96,
     "metadata": {},
     "output_type": "execute_result"
    },
    {
     "data": {
      "image/png": "[encoded data removed]",
      "text/plain": [
       "<Figure size 432x288 with 1 Axes>"
      ]
     },
     "metadata": {
      "needs_background": "light"
     },
     "output_type": "display_data"
    }
   ],
   "source": [
    "country = df4.groupby('country').size().reset_index(name='count').sort_values('count', ascending=False)\n",
    "sns.countplot(x='country',data=df4)"
   ]
  },
  {
   "cell_type": "code",
   "execution_count": 97,
   "metadata": {},
   "outputs": [
    {
     "data": {
      "text/plain": [
       "<AxesSubplot:xlabel='count', ylabel='variety'>"
      ]
     },
     "execution_count": 97,
     "metadata": {},
     "output_type": "execute_result"
    },
    {
     "data": {
      "image/png": "[encoded data removed]",
      "text/plain": [
       "<Figure size 1080x720 with 1 Axes>"
      ]
     },
     "metadata": {
      "needs_background": "light"
     },
     "output_type": "display_data"
    }
   ],
   "source": [
    "plt.figure(figsize=(15,10))\n",
    "variety = df4.groupby('variety').size().reset_index(name='count').sort_values('count', ascending=False)\n",
    "sns.countplot(y='variety', data=df4, order = df4['variety'].value_counts().index)"
   ]
  },
  {
   "cell_type": "code",
   "execution_count": 98,
   "metadata": {},
   "outputs": [
    {
     "data": {
      "text/plain": [
       "<AxesSubplot:>"
      ]
     },
     "execution_count": 98,
     "metadata": {},
     "output_type": "execute_result"
    },
    {
     "data": {
      "image/png": "[encoded data removed]",
      "text/plain": [
       "<Figure size 1080x360 with 1 Axes>"
      ]
     },
     "metadata": {
      "needs_background": "light"
     },
     "output_type": "display_data"
    }
   ],
   "source": [
    "df4['price'].hist(grid=False, bins=30,figsize=(15,5),range=(0,500))"
   ]
  },
  {
   "cell_type": "code",
   "execution_count": 99,
   "metadata": {},
   "outputs": [
    {
     "data": {
      "text/plain": [
       "count    196782.000000\n",
       "mean         36.400687\n",
       "std          40.411141\n",
       "min           4.000000\n",
       "25%          18.000000\n",
       "50%          27.000000\n",
       "75%          45.000000\n",
       "max        3300.000000\n",
       "Name: price, dtype: float64"
      ]
     },
     "execution_count": 99,
     "metadata": {},
     "output_type": "execute_result"
    }
   ],
   "source": [
    "df4['price'].describe()"
   ]
  },
  {
   "cell_type": "code",
   "execution_count": 100,
   "metadata": {},
   "outputs": [
    {
     "data": {
      "text/plain": [
       "<AxesSubplot:>"
      ]
     },
     "execution_count": 100,
     "metadata": {},
     "output_type": "execute_result"
    },
    {
     "data": {
      "image/png": "[encoded data removed]",
      "text/plain": [
       "<Figure size 1080x360 with 1 Axes>"
      ]
     },
     "metadata": {
      "needs_background": "light"
     },
     "output_type": "display_data"
    }
   ],
   "source": [
    "df4['points'].hist(grid=False,figsize=(15,5))"
   ]
  },
  {
   "cell_type": "code",
   "execution_count": 101,
   "metadata": {},
   "outputs": [
    {
     "data": {
      "text/html": [
       "<div>\n",
       "<style scoped>\n",
       "    .dataframe tbody tr th:only-of-type {\n",
       "        vertical-align: middle;\n",
       "    }\n",
       "\n",
       "    .dataframe tbody tr th {\n",
       "        vertical-align: top;\n",
       "    }\n",
       "\n",
       "    .dataframe thead th {\n",
       "        text-align: right;\n",
       "    }\n",
       "</style>\n",
       "<table border=\"1\" class=\"dataframe\">\n",
       "  <thead>\n",
       "    <tr style=\"text-align: right;\">\n",
       "      <th></th>\n",
       "      <th>country</th>\n",
       "      <th>description</th>\n",
       "      <th>points</th>\n",
       "      <th>price</th>\n",
       "      <th>province</th>\n",
       "      <th>region_1</th>\n",
       "      <th>variety</th>\n",
       "      <th>winery</th>\n",
       "    </tr>\n",
       "  </thead>\n",
       "  <tbody>\n",
       "    <tr>\n",
       "      <th>4789</th>\n",
       "      <td>US</td>\n",
       "      <td>A scent of Mexican chocolate carries on to the...</td>\n",
       "      <td>86</td>\n",
       "      <td>29.0</td>\n",
       "      <td>North Carolina</td>\n",
       "      <td>Swan Creek</td>\n",
       "      <td>Montepulciano</td>\n",
       "      <td>Raffaldini</td>\n",
       "    </tr>\n",
       "    <tr>\n",
       "      <th>6177</th>\n",
       "      <td>US</td>\n",
       "      <td>It's a treat to taste this varietal that is so...</td>\n",
       "      <td>88</td>\n",
       "      <td>28.0</td>\n",
       "      <td>California</td>\n",
       "      <td>Mendocino County</td>\n",
       "      <td>Montepulciano</td>\n",
       "      <td>Monte Volpe</td>\n",
       "    </tr>\n",
       "    <tr>\n",
       "      <th>6438</th>\n",
       "      <td>US</td>\n",
       "      <td>Dark cherry and mocha aromas come with a hint ...</td>\n",
       "      <td>85</td>\n",
       "      <td>22.0</td>\n",
       "      <td>North Carolina</td>\n",
       "      <td>Swan Creek</td>\n",
       "      <td>Montepulciano</td>\n",
       "      <td>Raffaldini</td>\n",
       "    </tr>\n",
       "    <tr>\n",
       "      <th>8270</th>\n",
       "      <td>US</td>\n",
       "      <td>This grape excels in the region's warmer clima...</td>\n",
       "      <td>89</td>\n",
       "      <td>40.0</td>\n",
       "      <td>California</td>\n",
       "      <td>Temecula Valley</td>\n",
       "      <td>Montepulciano</td>\n",
       "      <td>Robert Renzoni</td>\n",
       "    </tr>\n",
       "    <tr>\n",
       "      <th>9499</th>\n",
       "      <td>Italy</td>\n",
       "      <td>This lovely rosato (made with the Montepulcian...</td>\n",
       "      <td>86</td>\n",
       "      <td>11.0</td>\n",
       "      <td>Central Italy</td>\n",
       "      <td>Montepulciano d'Abruzzo</td>\n",
       "      <td>Montepulciano</td>\n",
       "      <td>Talamonti</td>\n",
       "    </tr>\n",
       "    <tr>\n",
       "      <th>...</th>\n",
       "      <td>...</td>\n",
       "      <td>...</td>\n",
       "      <td>...</td>\n",
       "      <td>...</td>\n",
       "      <td>...</td>\n",
       "      <td>...</td>\n",
       "      <td>...</td>\n",
       "      <td>...</td>\n",
       "    </tr>\n",
       "    <tr>\n",
       "      <th>125554</th>\n",
       "      <td>Italy</td>\n",
       "      <td>Aromas of French oak, coconut, exotic spice an...</td>\n",
       "      <td>89</td>\n",
       "      <td>50.0</td>\n",
       "      <td>Central Italy</td>\n",
       "      <td>Montepulciano d'Abruzzo</td>\n",
       "      <td>Montepulciano</td>\n",
       "      <td>Binomio</td>\n",
       "    </tr>\n",
       "    <tr>\n",
       "      <th>125619</th>\n",
       "      <td>Italy</td>\n",
       "      <td>Ancilla is a rustic and raw expression of Mont...</td>\n",
       "      <td>86</td>\n",
       "      <td>15.0</td>\n",
       "      <td>Central Italy</td>\n",
       "      <td>Montepulciano d'Abruzzo</td>\n",
       "      <td>Montepulciano</td>\n",
       "      <td>Ciavolich Giuseppe</td>\n",
       "    </tr>\n",
       "    <tr>\n",
       "      <th>125628</th>\n",
       "      <td>Italy</td>\n",
       "      <td>Sirio is a perfect pizza wine especially if th...</td>\n",
       "      <td>86</td>\n",
       "      <td>16.0</td>\n",
       "      <td>Central Italy</td>\n",
       "      <td>Montepulciano d'Abruzzo</td>\n",
       "      <td>Montepulciano</td>\n",
       "      <td>San Lorenzo</td>\n",
       "    </tr>\n",
       "    <tr>\n",
       "      <th>127116</th>\n",
       "      <td>Italy</td>\n",
       "      <td>Candied fruit, cherry liqueur and a touch of S...</td>\n",
       "      <td>83</td>\n",
       "      <td>7.0</td>\n",
       "      <td>Central Italy</td>\n",
       "      <td>Montepulciano d'Abruzzo</td>\n",
       "      <td>Montepulciano</td>\n",
       "      <td>Vino dei Fratelli</td>\n",
       "    </tr>\n",
       "    <tr>\n",
       "      <th>128903</th>\n",
       "      <td>Italy</td>\n",
       "      <td>This is a delicious wine with rich layers of c...</td>\n",
       "      <td>89</td>\n",
       "      <td>53.0</td>\n",
       "      <td>Central Italy</td>\n",
       "      <td>Montepulciano d'Abruzzo</td>\n",
       "      <td>Montepulciano</td>\n",
       "      <td>Ciavolich Giuseppe</td>\n",
       "    </tr>\n",
       "  </tbody>\n",
       "</table>\n",
       "<p>473 rows × 8 columns</p>\n",
       "</div>"
      ],
      "text/plain": [
       "       country                                        description  points  \\\n",
       "4789        US  A scent of Mexican chocolate carries on to the...      86   \n",
       "6177        US  It's a treat to taste this varietal that is so...      88   \n",
       "6438        US  Dark cherry and mocha aromas come with a hint ...      85   \n",
       "8270        US  This grape excels in the region's warmer clima...      89   \n",
       "9499     Italy  This lovely rosato (made with the Montepulcian...      86   \n",
       "...        ...                                                ...     ...   \n",
       "125554   Italy  Aromas of French oak, coconut, exotic spice an...      89   \n",
       "125619   Italy  Ancilla is a rustic and raw expression of Mont...      86   \n",
       "125628   Italy  Sirio is a perfect pizza wine especially if th...      86   \n",
       "127116   Italy  Candied fruit, cherry liqueur and a touch of S...      83   \n",
       "128903   Italy  This is a delicious wine with rich layers of c...      89   \n",
       "\n",
       "        price        province                 region_1        variety  \\\n",
       "4789     29.0  North Carolina               Swan Creek  Montepulciano   \n",
       "6177     28.0      California         Mendocino County  Montepulciano   \n",
       "6438     22.0  North Carolina               Swan Creek  Montepulciano   \n",
       "8270     40.0      California          Temecula Valley  Montepulciano   \n",
       "9499     11.0   Central Italy  Montepulciano d'Abruzzo  Montepulciano   \n",
       "...       ...             ...                      ...            ...   \n",
       "125554   50.0   Central Italy  Montepulciano d'Abruzzo  Montepulciano   \n",
       "125619   15.0   Central Italy  Montepulciano d'Abruzzo  Montepulciano   \n",
       "125628   16.0   Central Italy  Montepulciano d'Abruzzo  Montepulciano   \n",
       "127116    7.0   Central Italy  Montepulciano d'Abruzzo  Montepulciano   \n",
       "128903   53.0   Central Italy  Montepulciano d'Abruzzo  Montepulciano   \n",
       "\n",
       "                    winery  \n",
       "4789            Raffaldini  \n",
       "6177           Monte Volpe  \n",
       "6438            Raffaldini  \n",
       "8270        Robert Renzoni  \n",
       "9499             Talamonti  \n",
       "...                    ...  \n",
       "125554             Binomio  \n",
       "125619  Ciavolich Giuseppe  \n",
       "125628         San Lorenzo  \n",
       "127116   Vino dei Fratelli  \n",
       "128903  Ciavolich Giuseppe  \n",
       "\n",
       "[473 rows x 8 columns]"
      ]
     },
     "execution_count": 101,
     "metadata": {},
     "output_type": "execute_result"
    }
   ],
   "source": [
    "\n",
    "df4.loc[df4['variety'] == 'Montepulciano']"
   ]
  },
  {
   "cell_type": "code",
   "execution_count": 102,
   "metadata": {},
   "outputs": [],
   "source": [
    "#Hence even the 50th common variety Montepulciano has 473 reviews\n",
    "#in total the data set has top most 50 common variety of wine and 196782 records and"
   ]
  },
  {
   "cell_type": "code",
   "execution_count": 103,
   "metadata": {},
   "outputs": [
    {
     "data": {
      "text/plain": [
       "California            76860\n",
       "Washington            17030\n",
       "Tuscany               10454\n",
       "Oregon                 9600\n",
       "Mendoza Province       7230\n",
       "                      ...  \n",
       "Connecticut               5\n",
       "Kentucky                  4\n",
       "Northwestern Italy        4\n",
       "Rhode Island              1\n",
       "Hawaii                    1\n",
       "Name: province, Length: 63, dtype: int64"
      ]
     },
     "execution_count": 103,
     "metadata": {},
     "output_type": "execute_result"
    }
   ],
   "source": [
    "df4['province'].value_counts()"
   ]
  },
  {
   "cell_type": "code",
   "execution_count": 104,
   "metadata": {
    "scrolled": true
   },
   "outputs": [
    {
     "data": {
      "text/plain": [
       "<AxesSubplot:xlabel='count', ylabel='province'>"
      ]
     },
     "execution_count": 104,
     "metadata": {},
     "output_type": "execute_result"
    },
    {
     "data": {
      "image/png": "[encoded data removed]",
      "text/plain": [
       "<Figure size 1080x720 with 1 Axes>"
      ]
     },
     "metadata": {
      "needs_background": "light"
     },
     "output_type": "display_data"
    }
   ],
   "source": [
    "plt.figure(figsize=(15,10))\n",
    "variety = df4.groupby('province').size().reset_index(name='count').sort_values('count', ascending=False)\n",
    "sns.countplot(y='province', data=df4, order = df4['province'].value_counts().index)"
   ]
  },
  {
   "cell_type": "code",
   "execution_count": 105,
   "metadata": {},
   "outputs": [
    {
     "data": {
      "text/html": [
       "<div>\n",
       "<style scoped>\n",
       "    .dataframe tbody tr th:only-of-type {\n",
       "        vertical-align: middle;\n",
       "    }\n",
       "\n",
       "    .dataframe tbody tr th {\n",
       "        vertical-align: top;\n",
       "    }\n",
       "\n",
       "    .dataframe thead th {\n",
       "        text-align: right;\n",
       "    }\n",
       "</style>\n",
       "<table border=\"1\" class=\"dataframe\">\n",
       "  <thead>\n",
       "    <tr style=\"text-align: right;\">\n",
       "      <th></th>\n",
       "      <th>country</th>\n",
       "      <th>description</th>\n",
       "      <th>points</th>\n",
       "      <th>price</th>\n",
       "      <th>province</th>\n",
       "      <th>region_1</th>\n",
       "      <th>variety</th>\n",
       "      <th>winery</th>\n",
       "    </tr>\n",
       "  </thead>\n",
       "  <tbody>\n",
       "    <tr>\n",
       "      <th>0</th>\n",
       "      <td>US</td>\n",
       "      <td>This tremendous 100% varietal wine hails from ...</td>\n",
       "      <td>96</td>\n",
       "      <td>235.0</td>\n",
       "      <td>California</td>\n",
       "      <td>Napa Valley</td>\n",
       "      <td>Cabernet Sauvignon</td>\n",
       "      <td>Heitz</td>\n",
       "    </tr>\n",
       "    <tr>\n",
       "      <th>2</th>\n",
       "      <td>US</td>\n",
       "      <td>Mac Watson honors the memory of a wine once ma...</td>\n",
       "      <td>96</td>\n",
       "      <td>90.0</td>\n",
       "      <td>California</td>\n",
       "      <td>Knights Valley</td>\n",
       "      <td>Sauvignon Blanc</td>\n",
       "      <td>Macauley</td>\n",
       "    </tr>\n",
       "    <tr>\n",
       "      <th>3</th>\n",
       "      <td>US</td>\n",
       "      <td>This spent 20 months in 30% new French oak, an...</td>\n",
       "      <td>96</td>\n",
       "      <td>65.0</td>\n",
       "      <td>Oregon</td>\n",
       "      <td>Willamette Valley</td>\n",
       "      <td>Pinot Noir</td>\n",
       "      <td>Ponzi</td>\n",
       "    </tr>\n",
       "    <tr>\n",
       "      <th>8</th>\n",
       "      <td>US</td>\n",
       "      <td>This re-named vineyard was formerly bottled as...</td>\n",
       "      <td>95</td>\n",
       "      <td>65.0</td>\n",
       "      <td>Oregon</td>\n",
       "      <td>Chehalem Mountains</td>\n",
       "      <td>Pinot Noir</td>\n",
       "      <td>Bergström</td>\n",
       "    </tr>\n",
       "    <tr>\n",
       "      <th>9</th>\n",
       "      <td>US</td>\n",
       "      <td>The producer sources from two blocks of the vi...</td>\n",
       "      <td>95</td>\n",
       "      <td>60.0</td>\n",
       "      <td>California</td>\n",
       "      <td>Sonoma Coast</td>\n",
       "      <td>Pinot Noir</td>\n",
       "      <td>Blue Farm</td>\n",
       "    </tr>\n",
       "    <tr>\n",
       "      <th>...</th>\n",
       "      <td>...</td>\n",
       "      <td>...</td>\n",
       "      <td>...</td>\n",
       "      <td>...</td>\n",
       "      <td>...</td>\n",
       "      <td>...</td>\n",
       "      <td>...</td>\n",
       "      <td>...</td>\n",
       "    </tr>\n",
       "    <tr>\n",
       "      <th>129965</th>\n",
       "      <td>France</td>\n",
       "      <td>While it's rich, this beautiful dry wine also ...</td>\n",
       "      <td>90</td>\n",
       "      <td>28.0</td>\n",
       "      <td>Alsace</td>\n",
       "      <td>Alsace</td>\n",
       "      <td>Pinot Gris</td>\n",
       "      <td>Domaine Rieflé-Landmann</td>\n",
       "    </tr>\n",
       "    <tr>\n",
       "      <th>129967</th>\n",
       "      <td>US</td>\n",
       "      <td>Citation is given as much as a decade of bottl...</td>\n",
       "      <td>90</td>\n",
       "      <td>75.0</td>\n",
       "      <td>Oregon</td>\n",
       "      <td>Oregon</td>\n",
       "      <td>Pinot Noir</td>\n",
       "      <td>Citation</td>\n",
       "    </tr>\n",
       "    <tr>\n",
       "      <th>129968</th>\n",
       "      <td>France</td>\n",
       "      <td>Well-drained gravel soil gives this wine its c...</td>\n",
       "      <td>90</td>\n",
       "      <td>30.0</td>\n",
       "      <td>Alsace</td>\n",
       "      <td>Alsace</td>\n",
       "      <td>Gewürztraminer</td>\n",
       "      <td>Domaine Gresser</td>\n",
       "    </tr>\n",
       "    <tr>\n",
       "      <th>129969</th>\n",
       "      <td>France</td>\n",
       "      <td>A dry style of Pinot Gris, this is crisp with ...</td>\n",
       "      <td>90</td>\n",
       "      <td>32.0</td>\n",
       "      <td>Alsace</td>\n",
       "      <td>Alsace</td>\n",
       "      <td>Pinot Gris</td>\n",
       "      <td>Domaine Marcel Deiss</td>\n",
       "    </tr>\n",
       "    <tr>\n",
       "      <th>129970</th>\n",
       "      <td>France</td>\n",
       "      <td>Big, rich and off-dry, this is powered by inte...</td>\n",
       "      <td>90</td>\n",
       "      <td>21.0</td>\n",
       "      <td>Alsace</td>\n",
       "      <td>Alsace</td>\n",
       "      <td>Gewürztraminer</td>\n",
       "      <td>Domaine Schoffit</td>\n",
       "    </tr>\n",
       "  </tbody>\n",
       "</table>\n",
       "<p>196782 rows × 8 columns</p>\n",
       "</div>"
      ],
      "text/plain": [
       "       country                                        description  points  \\\n",
       "0           US  This tremendous 100% varietal wine hails from ...      96   \n",
       "2           US  Mac Watson honors the memory of a wine once ma...      96   \n",
       "3           US  This spent 20 months in 30% new French oak, an...      96   \n",
       "8           US  This re-named vineyard was formerly bottled as...      95   \n",
       "9           US  The producer sources from two blocks of the vi...      95   \n",
       "...        ...                                                ...     ...   \n",
       "129965  France  While it's rich, this beautiful dry wine also ...      90   \n",
       "129967      US  Citation is given as much as a decade of bottl...      90   \n",
       "129968  France  Well-drained gravel soil gives this wine its c...      90   \n",
       "129969  France  A dry style of Pinot Gris, this is crisp with ...      90   \n",
       "129970  France  Big, rich and off-dry, this is powered by inte...      90   \n",
       "\n",
       "        price    province            region_1             variety  \\\n",
       "0       235.0  California         Napa Valley  Cabernet Sauvignon   \n",
       "2        90.0  California      Knights Valley     Sauvignon Blanc   \n",
       "3        65.0      Oregon   Willamette Valley          Pinot Noir   \n",
       "8        65.0      Oregon  Chehalem Mountains          Pinot Noir   \n",
       "9        60.0  California        Sonoma Coast          Pinot Noir   \n",
       "...       ...         ...                 ...                 ...   \n",
       "129965   28.0      Alsace              Alsace          Pinot Gris   \n",
       "129967   75.0      Oregon              Oregon          Pinot Noir   \n",
       "129968   30.0      Alsace              Alsace      Gewürztraminer   \n",
       "129969   32.0      Alsace              Alsace          Pinot Gris   \n",
       "129970   21.0      Alsace              Alsace      Gewürztraminer   \n",
       "\n",
       "                         winery  \n",
       "0                         Heitz  \n",
       "2                      Macauley  \n",
       "3                         Ponzi  \n",
       "8                     Bergström  \n",
       "9                     Blue Farm  \n",
       "...                         ...  \n",
       "129965  Domaine Rieflé-Landmann  \n",
       "129967                 Citation  \n",
       "129968          Domaine Gresser  \n",
       "129969     Domaine Marcel Deiss  \n",
       "129970         Domaine Schoffit  \n",
       "\n",
       "[196782 rows x 8 columns]"
      ]
     },
     "execution_count": 105,
     "metadata": {},
     "output_type": "execute_result"
    }
   ],
   "source": [
    "df4"
   ]
  },
  {
   "cell_type": "code",
   "execution_count": 106,
   "metadata": {},
   "outputs": [],
   "source": [
    "df4['location'] = df4['region_1'] + \", \" + df4['province'] + \", \" + df4['country']"
   ]
  },
  {
   "cell_type": "code",
   "execution_count": 107,
   "metadata": {
    "scrolled": true
   },
   "outputs": [],
   "source": [
    "import pandas as pd\n",
    "pd.options.mode.chained_assignment = None  # default='warn'\n",
    "\n",
    "# function for prepending points \n",
    "def prepend_string(name): \n",
    "    return 'My points are ' + name\n",
    "\n",
    "# function for prepending winery \n",
    "def prepend_winery(name): \n",
    "    return 'The winery is ' + name\n",
    "\n",
    "# function for prepending location \n",
    "def prepend_location(name): \n",
    "    return 'My location is ' + name\n",
    "\n",
    "\n",
    "# executing the function \n",
    "df4[\"points\"] = df4[\"points\"].astype(str).apply(prepend_string) \n",
    "df4[\"winery\"] = df4[\"winery\"].astype(str).apply(prepend_winery) \n",
    "df4[\"location\"] = df4[\"location\"].astype(str).apply(prepend_location) \n",
    "\n",
    "#df['combined'] = df['description','winery'].apply(lambda row: 'The winery is'.join(row.values.astype(str)), axis=1)\n",
    "\n",
    "#df4['description'] = df4['description'] + '. My location is ' + df4['region_1'] + ', ' + df4['province']+ ',' + df4['country']+ '. The winery it comes from is' + df4['winery'] + '. The points are '+ str(df4['points']) + 'and the price of the wine is '+ str(df4[\"price\"])"
   ]
  },
  {
   "cell_type": "code",
   "execution_count": 108,
   "metadata": {},
   "outputs": [
    {
     "data": {
      "text/plain": [
       "'The winery is Heitz'"
      ]
     },
     "execution_count": 108,
     "metadata": {},
     "output_type": "execute_result"
    }
   ],
   "source": [
    "df4.loc[0]['winery']"
   ]
  },
  {
   "cell_type": "code",
   "execution_count": null,
   "metadata": {},
   "outputs": [],
   "source": []
  },
  {
   "cell_type": "markdown",
   "metadata": {},
   "source": [
    "# WORD EMBEDDING"
   ]
  },
  {
   "cell_type": "code",
   "execution_count": 87,
   "metadata": {},
   "outputs": [],
   "source": [
    "import nltk"
   ]
  },
  {
   "cell_type": "code",
   "execution_count": null,
   "metadata": {},
   "outputs": [],
   "source": [
    "#nltk.download_shell()"
   ]
  },
  {
   "cell_type": "code",
   "execution_count": 91,
   "metadata": {},
   "outputs": [],
   "source": [
    "#from tensorflow.keras.preprocessing.text import Tokenizer"
   ]
  },
  {
   "cell_type": "code",
   "execution_count": 92,
   "metadata": {},
   "outputs": [
    {
     "name": "stderr",
     "output_type": "stream",
     "text": [
      "ERROR: cufflinks 0.17.3 has requirement plotly>=4.1.1, but you'll have plotly 3.10.0 which is incompatible.\n",
      "  ERROR: Failed to restore c:\\users\\dell\\anaconda3\\lib\\site-packages\\numpy\n",
      "ERROR: Could not install packages due to an EnvironmentError: [WinError 5] Access is denied: 'C:\\\\Users\\\\DELL\\\\anaconda3\\\\Lib\\\\site-packages\\\\~umpy\\\\core\\\\_multiarray_tests.cp38-win_amd64.pyd'\n",
      "Consider using the `--user` option or check the permissions.\n",
      "\n",
      "Traceback (most recent call last):\n",
      "  File \"C:\\Users\\DELL\\anaconda3\\Scripts\\pip-script.py\", line 10, in <module>\n",
      "    sys.exit(main())\n",
      "  File \"C:\\Users\\DELL\\anaconda3\\lib\\site-packages\\pip\\_internal\\cli\\main.py\", line 75, in main\n",
      "    return command.main(cmd_args)\n",
      "  File \"C:\\Users\\DELL\\anaconda3\\lib\\site-packages\\pip\\_internal\\cli\\base_command.py\", line 114, in main\n",
      "    return self._main(args)\n",
      "  File \"C:\\Users\\DELL\\anaconda3\\lib\\contextlib.py\", line 120, in __exit__\n",
      "    next(self.gen)\n",
      "  File \"C:\\Users\\DELL\\anaconda3\\lib\\site-packages\\pip\\_internal\\cli\\command_context.py\", line 28, in main_context\n",
      "    yield\n",
      "  File \"C:\\Users\\DELL\\anaconda3\\lib\\site-packages\\pip\\_vendor\\contextlib2.py\", line 479, in __exit__\n",
      "    _reraise_with_existing_context(exc_details)\n",
      "  File \"C:\\Users\\DELL\\anaconda3\\lib\\site-packages\\pip\\_vendor\\contextlib2.py\", line 340, in _reraise_with_existing_context\n",
      "    raise exc_details[1]\n",
      "  File \"C:\\Users\\DELL\\anaconda3\\lib\\contextlib.py\", line 131, in __exit__\n",
      "    self.gen.throw(type, value, traceback)\n",
      "  File \"C:\\Users\\DELL\\anaconda3\\lib\\site-packages\\pip\\_internal\\utils\\temp_dir.py\", line 84, in tempdir_registry\n",
      "    yield _tempdir_registry\n",
      "  File \"C:\\Users\\DELL\\anaconda3\\lib\\site-packages\\pip\\_vendor\\contextlib2.py\", line 468, in __exit__\n",
      "    if cb(*exc_details):\n",
      "  File \"C:\\Users\\DELL\\anaconda3\\lib\\site-packages\\pip\\_vendor\\contextlib2.py\", line 396, in _exit_wrapper\n",
      "    return cm_exit(cm, *exc_details)\n",
      "  File \"C:\\Users\\DELL\\anaconda3\\lib\\contextlib.py\", line 120, in __exit__\n",
      "    next(self.gen)\n",
      "  File \"C:\\Users\\DELL\\anaconda3\\lib\\site-packages\\pip\\_internal\\utils\\temp_dir.py\", line 45, in global_tempdir_manager\n",
      "    _tempdir_manager = old_tempdir_manager\n",
      "  File \"C:\\Users\\DELL\\anaconda3\\lib\\site-packages\\pip\\_vendor\\contextlib2.py\", line 479, in __exit__\n",
      "    _reraise_with_existing_context(exc_details)\n",
      "  File \"C:\\Users\\DELL\\anaconda3\\lib\\site-packages\\pip\\_vendor\\contextlib2.py\", line 340, in _reraise_with_existing_context\n",
      "    raise exc_details[1]\n",
      "  File \"C:\\Users\\DELL\\anaconda3\\lib\\site-packages\\pip\\_vendor\\contextlib2.py\", line 468, in __exit__\n",
      "    if cb(*exc_details):\n",
      "  File \"C:\\Users\\DELL\\anaconda3\\lib\\site-packages\\pip\\_vendor\\contextlib2.py\", line 396, in _exit_wrapper\n",
      "    return cm_exit(cm, *exc_details)\n",
      "  File \"C:\\Users\\DELL\\anaconda3\\lib\\site-packages\\pip\\_internal\\utils\\temp_dir.py\", line 174, in __exit__\n",
      "    self.cleanup()\n",
      "  File \"C:\\Users\\DELL\\anaconda3\\lib\\site-packages\\pip\\_internal\\utils\\temp_dir.py\", line 196, in cleanup\n",
      "    rmtree(self._path)\n",
      "  File \"C:\\Users\\DELL\\anaconda3\\lib\\site-packages\\pip\\_vendor\\retrying.py\", line 49, in wrapped_f\n",
      "    return Retrying(*dargs, **dkw).call(f, *args, **kw)\n",
      "  File \"C:\\Users\\DELL\\anaconda3\\lib\\site-packages\\pip\\_vendor\\retrying.py\", line 212, in call\n",
      "    raise attempt.get()\n",
      "  File \"C:\\Users\\DELL\\anaconda3\\lib\\site-packages\\pip\\_vendor\\retrying.py\", line 247, in get\n",
      "    six.reraise(self.value[0], self.value[1], self.value[2])\n",
      "  File \"C:\\Users\\DELL\\anaconda3\\lib\\site-packages\\pip\\_vendor\\six.py\", line 703, in reraise\n",
      "    raise value\n",
      "  File \"C:\\Users\\DELL\\anaconda3\\lib\\site-packages\\pip\\_vendor\\retrying.py\", line 200, in call\n",
      "    attempt = Attempt(fn(*args, **kwargs), attempt_number, False)\n",
      "  File \"C:\\Users\\DELL\\anaconda3\\lib\\site-packages\\pip\\_internal\\utils\\misc.py\", line 135, in rmtree\n",
      "    shutil.rmtree(dir, ignore_errors=ignore_errors,\n",
      "  File \"C:\\Users\\DELL\\anaconda3\\lib\\shutil.py\", line 737, in rmtree\n",
      "    return _rmtree_unsafe(path, onerror)\n",
      "  File \"C:\\Users\\DELL\\anaconda3\\lib\\shutil.py\", line 610, in _rmtree_unsafe\n",
      "    _rmtree_unsafe(fullname, onerror)\n",
      "  File \"C:\\Users\\DELL\\anaconda3\\lib\\shutil.py\", line 610, in _rmtree_unsafe\n",
      "    _rmtree_unsafe(fullname, onerror)\n",
      "  File \"C:\\Users\\DELL\\anaconda3\\lib\\shutil.py\", line 619, in _rmtree_unsafe\n",
      "    onerror(os.rmdir, path, sys.exc_info())\n",
      "  File \"C:\\Users\\DELL\\anaconda3\\lib\\shutil.py\", line 617, in _rmtree_unsafe\n",
      "    os.rmdir(path)\n",
      "OSError: [WinError 145] The directory is not empty: 'C:\\\\Users\\\\DELL\\\\AppData\\\\Local\\\\Temp\\\\pip-install-4obt39be\\\\numpy\\\\numpy'\n"
     ]
    },
    {
     "name": "stdout",
     "output_type": "stream",
     "text": [
      "Collecting tensorflow\n",
      "  Downloading tensorflow-2.4.1-cp38-cp38-win_amd64.whl (370.7 MB)\n",
      "Collecting numpy~=1.19.2\n",
      "  Downloading numpy-1.19.5-cp38-cp38-win_amd64.whl (13.3 MB)\n",
      "Collecting wheel~=0.35\n",
      "  Downloading wheel-0.36.2-py2.py3-none-any.whl (35 kB)\n",
      "Collecting gast==0.3.3\n",
      "  Downloading gast-0.3.3-py2.py3-none-any.whl (9.7 kB)\n",
      "Collecting tensorflow-estimator<2.5.0,>=2.4.0\n",
      "  Downloading tensorflow_estimator-2.4.0-py2.py3-none-any.whl (462 kB)\n",
      "Requirement already satisfied: protobuf>=3.9.2 in c:\\users\\dell\\anaconda3\\lib\\site-packages (from tensorflow) (3.14.0)\n",
      "Collecting termcolor~=1.1.0\n",
      "  Downloading termcolor-1.1.0.tar.gz (3.9 kB)\n",
      "Requirement already satisfied: typing-extensions~=3.7.4 in c:\\users\\dell\\anaconda3\\lib\\site-packages (from tensorflow) (3.7.4.2)\n",
      "Collecting astunparse~=1.6.3\n",
      "  Downloading astunparse-1.6.3-py2.py3-none-any.whl (12 kB)\n",
      "Collecting google-pasta~=0.2\n",
      "  Downloading google_pasta-0.2.0-py3-none-any.whl (57 kB)\n",
      "Requirement already satisfied: h5py~=2.10.0 in c:\\users\\dell\\anaconda3\\lib\\site-packages (from tensorflow) (2.10.0)\n",
      "Collecting opt-einsum~=3.3.0\n",
      "  Downloading opt_einsum-3.3.0-py3-none-any.whl (65 kB)\n",
      "Collecting wrapt~=1.12.1\n",
      "  Downloading wrapt-1.12.1.tar.gz (27 kB)\n",
      "Collecting tensorboard~=2.4\n",
      "  Downloading tensorboard-2.4.1-py3-none-any.whl (10.6 MB)\n",
      "Collecting flatbuffers~=1.12.0\n",
      "  Downloading flatbuffers-1.12-py2.py3-none-any.whl (15 kB)\n",
      "Collecting keras-preprocessing~=1.1.2\n",
      "  Downloading Keras_Preprocessing-1.1.2-py2.py3-none-any.whl (42 kB)\n",
      "Collecting grpcio~=1.32.0\n",
      "  Downloading grpcio-1.32.0-cp38-cp38-win_amd64.whl (2.6 MB)\n",
      "Collecting absl-py~=0.10\n",
      "  Downloading absl_py-0.11.0-py3-none-any.whl (127 kB)\n",
      "Requirement already satisfied: six~=1.15.0 in c:\\users\\dell\\anaconda3\\lib\\site-packages (from tensorflow) (1.15.0)\n",
      "Collecting markdown>=2.6.8\n",
      "  Downloading Markdown-3.3.3-py3-none-any.whl (96 kB)\n",
      "Collecting google-auth<2,>=1.6.3\n",
      "  Downloading google_auth-1.25.0-py2.py3-none-any.whl (116 kB)\n",
      "Collecting tensorboard-plugin-wit>=1.6.0\n",
      "  Downloading tensorboard_plugin_wit-1.8.0-py3-none-any.whl (781 kB)\n",
      "Collecting google-auth-oauthlib<0.5,>=0.4.1\n",
      "  Downloading google_auth_oauthlib-0.4.2-py2.py3-none-any.whl (18 kB)\n",
      "Requirement already satisfied: werkzeug>=0.11.15 in c:\\users\\dell\\anaconda3\\lib\\site-packages (from tensorboard~=2.4->tensorflow) (1.0.1)\n",
      "Requirement already satisfied: setuptools>=41.0.0 in c:\\users\\dell\\anaconda3\\lib\\site-packages (from tensorboard~=2.4->tensorflow) (49.2.0.post20200714)\n",
      "Requirement already satisfied: requests<3,>=2.21.0 in c:\\users\\dell\\anaconda3\\lib\\site-packages (from tensorboard~=2.4->tensorflow) (2.24.0)\n",
      "Collecting pyasn1-modules>=0.2.1\n",
      "  Downloading pyasn1_modules-0.2.8-py2.py3-none-any.whl (155 kB)\n",
      "Requirement already satisfied: cachetools<5.0,>=2.0.0 in c:\\users\\dell\\anaconda3\\lib\\site-packages (from google-auth<2,>=1.6.3->tensorboard~=2.4->tensorflow) (4.2.1)\n",
      "Collecting rsa<5,>=3.1.4; python_version >= \"3.6\"\n",
      "  Downloading rsa-4.7-py3-none-any.whl (34 kB)\n",
      "Collecting requests-oauthlib>=0.7.0\n",
      "  Downloading requests_oauthlib-1.3.0-py2.py3-none-any.whl (23 kB)\n",
      "Requirement already satisfied: chardet<4,>=3.0.2 in c:\\users\\dell\\anaconda3\\lib\\site-packages (from requests<3,>=2.21.0->tensorboard~=2.4->tensorflow) (3.0.4)\n",
      "Requirement already satisfied: urllib3!=1.25.0,!=1.25.1,<1.26,>=1.21.1 in c:\\users\\dell\\anaconda3\\lib\\site-packages (from requests<3,>=2.21.0->tensorboard~=2.4->tensorflow) (1.25.9)\n",
      "Requirement already satisfied: idna<3,>=2.5 in c:\\users\\dell\\anaconda3\\lib\\site-packages (from requests<3,>=2.21.0->tensorboard~=2.4->tensorflow) (2.10)\n",
      "Requirement already satisfied: certifi>=2017.4.17 in c:\\users\\dell\\anaconda3\\lib\\site-packages (from requests<3,>=2.21.0->tensorboard~=2.4->tensorflow) (2020.6.20)\n",
      "Collecting pyasn1<0.5.0,>=0.4.6\n",
      "  Downloading pyasn1-0.4.8-py2.py3-none-any.whl (77 kB)\n",
      "Collecting oauthlib>=3.0.0\n",
      "  Downloading oauthlib-3.1.0-py2.py3-none-any.whl (147 kB)\n",
      "Building wheels for collected packages: termcolor, wrapt\n",
      "  Building wheel for termcolor (setup.py): started\n",
      "  Building wheel for termcolor (setup.py): finished with status 'done'\n",
      "  Created wheel for termcolor: filename=termcolor-1.1.0-py3-none-any.whl size=4835 sha256=fe49c1409aa6e642c6fab0f207008f4b5411e0d6fa2a19c5842452ae657a6414\n",
      "  Stored in directory: c:\\users\\dell\\appdata\\local\\pip\\cache\\wheels\\a0\\16\\9c\\5473df82468f958445479c59e784896fa24f4a5fc024b0f501\n",
      "  Building wheel for wrapt (setup.py): started\n",
      "  Building wheel for wrapt (setup.py): finished with status 'done'\n",
      "  Created wheel for wrapt: filename=wrapt-1.12.1-py3-none-any.whl size=19558 sha256=33f6ebce1ad5bd94a8b5df177d4cf7b11a2ad57899a6c12c7ae5e760621e64da\n",
      "  Stored in directory: c:\\users\\dell\\appdata\\local\\pip\\cache\\wheels\\5f\\fd\\9e\\b6cf5890494cb8ef0b5eaff72e5d55a70fb56316007d6dfe73\n",
      "Successfully built termcolor wrapt\n",
      "Installing collected packages: numpy, wheel, gast, tensorflow-estimator, termcolor, astunparse, google-pasta, opt-einsum, wrapt, markdown, pyasn1, pyasn1-modules, rsa, google-auth, tensorboard-plugin-wit, absl-py, grpcio, oauthlib, requests-oauthlib, google-auth-oauthlib, tensorboard, flatbuffers, keras-preprocessing, tensorflow\n",
      "  Attempting uninstall: numpy\n",
      "    Found existing installation: numpy 1.18.5\n",
      "    Uninstalling numpy-1.18.5:\n",
      "      Successfully uninstalled numpy-1.18.5\n",
      "  Rolling back uninstall of numpy\n",
      "  Moving to c:\\users\\dell\\anaconda3\\lib\\site-packages\\numpy\n",
      "   from C:\\Users\\DELL\\anaconda3\\Lib\\site-packages\\~umpy\n",
      "  Moving to c:\\users\\dell\\anaconda3\\lib\\site-packages\\numpy-1.18.5-py3.8.egg-info\n",
      "   from C:\\Users\\DELL\\anaconda3\\Lib\\site-packages\\~umpy-1.18.5-py3.8.egg-info\n",
      "  Moving to c:\\users\\dell\\anaconda3\\scripts\\f2py-script.py\n",
      "   from C:\\Users\\DELL\\AppData\\Local\\Temp\\pip-uninstall-coa0a89p\\f2py-script.py\n",
      "  Moving to c:\\users\\dell\\anaconda3\\scripts\\f2py.exe\n",
      "   from C:\\Users\\DELL\\AppData\\Local\\Temp\\pip-uninstall-coa0a89p\\f2py.exe\n"
     ]
    }
   ],
   "source": [
    "#!pip install tensorflow"
   ]
  },
  {
   "cell_type": "code",
   "execution_count": null,
   "metadata": {},
   "outputs": [],
   "source": []
  }
 ],
 "metadata": {
  "kernelspec": {
   "display_name": "Python 3",
   "language": "python",
   "name": "python3"
  },
  "language_info": {
   "codemirror_mode": {
    "name": "ipython",
    "version": 3
   },
   "file_extension": ".py",
   "mimetype": "text/x-python",
   "name": "python",
   "nbconvert_exporter": "python",
   "pygments_lexer": "ipython3",
   "version": "3.8.3"
  }
 },
 "nbformat": 4,
 "nbformat_minor": 4
}
